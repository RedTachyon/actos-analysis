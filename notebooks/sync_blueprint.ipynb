{
 "cells": [
  {
   "cell_type": "code",
   "execution_count": 2,
   "metadata": {},
   "outputs": [],
   "source": [
    "import json\n",
    "import pickle\n",
    "\n",
    "import numpy as np\n",
    "import pandas as pd\n",
    "from scipy.io import loadmat, savemat\n",
    "import matplotlib.pyplot as plt\n",
    "from tqdm import tqdm\n",
    "\n",
    "# import dataholders as dh\n",
    "import utils\n",
    "import points_processing as pp"
   ]
  },
  {
   "cell_type": "code",
   "execution_count": 3,
   "metadata": {},
   "outputs": [],
   "source": [
    "with open('data/data16.pickle', 'rb') as f:\n",
    "    data = pickle.load(f)"
   ]
  },
  {
   "cell_type": "code",
   "execution_count": 53,
   "metadata": {},
   "outputs": [],
   "source": [
    "def synchronize(time_actos: np.ndarray, time_uft: np.ndarray, *arrays, how='linear') -> (np.ndarray, np.ndarray):\n",
    "    \"\"\"\n",
    "    Synchronizes the UFT time and record vector to conform with the ACTOS timestamps.\n",
    "    \"\"\"\n",
    "    \n",
    "    narrays = [[] for array in arrays]\n",
    "    \n",
    "    for t in tqdm(time_uft):\n",
    "        try:\n",
    "            index = np.where(time_uft == t - 5)[0][0]\n",
    "        except IndexError:\n",
    "            continue\n",
    "            \n",
    "        for i, array in enumerate(arrays):\n",
    "            narrays[i].append((array[index] + array[index + 1])/2)\n",
    "        \n",
    "    narrays = list(map(np.array, narrays))\n",
    "    \n",
    "    return time_uft, narrays"
   ]
  },
  {
   "cell_type": "code",
   "execution_count": 81,
   "metadata": {},
   "outputs": [],
   "source": [
    "def synchronize(time_actos: np.ndarray, time_uft: np.ndarray, *arrays, how='linear') -> (np.ndarray, np.ndarray):\n",
    "    \"\"\"\n",
    "    Synchronizes the UFT time and record vector to conform with the ACTOS timestamps. Should work always, but super slowly.\n",
    "    \"\"\"\n",
    "    \n",
    "    narrays = [np.zeros_like(array) for array in arrays]\n",
    "    \n",
    "    for index_t, t in tqdm(enumerate(time_uft), total=time_uft.shape[0]):\n",
    "        try:\n",
    "            index = np.where(time_uft == t - 5)[0][0]\n",
    "        except IndexError:\n",
    "            continue\n",
    "            \n",
    "        for i, array in enumerate(arrays):\n",
    "            narrays[i][index_t] = (array[index] + array[index + 1])/2\n",
    "        \n",
    "    narrays = list(map(np.array, narrays))\n",
    "    \n",
    "    return time_uft, narrays"
   ]
  },
  {
   "cell_type": "code",
   "execution_count": 82,
   "metadata": {},
   "outputs": [],
   "source": [
    "def fast_synchronize(time_actos: np.ndarray, time_uft: np.ndarray, *arrays, cut=False) -> (np.ndarray, np.ndarray):\n",
    "    \"\"\"\n",
    "    Synchronizes the UFT time and record vector to conform with the ACTOS timestamps, and hopefully does so quickly.\n",
    "    \"\"\"\n",
    "    \n",
    "    time_uft = utils.rolling_window(time_uft, 2).mean(1, dtype=int)\n",
    "    narrays = [utils.rolling_window(array, 2).mean(1) for array in arrays]\n",
    "    \n",
    "    return time_uft, narrays"
   ]
  },
  {
   "cell_type": "code",
   "execution_count": 79,
   "metadata": {},
   "outputs": [],
   "source": [
    "time, lowT, upT = data['time_av'], data['lowT_av'], data['upT_av']"
   ]
  },
  {
   "cell_type": "code",
   "execution_count": 71,
   "metadata": {},
   "outputs": [],
   "source": [
    "time, [lowT, upT] = fast_synchronize(data['time'], data['time_av'], data['lowT_av'], data['upT_av'])"
   ]
  },
  {
   "cell_type": "code",
   "execution_count": 85,
   "metadata": {},
   "outputs": [
    {
     "data": {
      "text/plain": [
       "[<matplotlib.lines.Line2D at 0x7f775b1423c8>]"
      ]
     },
     "execution_count": 85,
     "metadata": {},
     "output_type": "execute_result"
    },
    {
     "data": {
      "image/png": "[encoded data removed]",
      "text/plain": [
       "<matplotlib.figure.Figure at 0x7f775b1fac88>"
      ]
     },
     "metadata": {},
     "output_type": "display_data"
    }
   ],
   "source": [
    "plt.plot(time/1000, lowT)"
   ]
  }
 ],
 "metadata": {
  "kernelspec": {
   "display_name": "Python 3",
   "language": "python",
   "name": "python3"
  },
  "language_info": {
   "codemirror_mode": {
    "name": "ipython",
    "version": 3
   },
   "file_extension": ".py",
   "mimetype": "text/x-python",
   "name": "python",
   "nbconvert_exporter": "python",
   "pygments_lexer": "ipython3",
   "version": "3.6.5"
  }
 },
 "nbformat": 4,
 "nbformat_minor": 2
}
